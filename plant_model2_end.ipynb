{
 "cells": [
  {
   "cell_type": "code",
   "execution_count": 1,
   "id": "fd922d6b",
   "metadata": {},
   "outputs": [],
   "source": [
    "import tensorflow as tf\n",
    "import pandas as pd\n",
    "import numpy as np\n",
    "import os\n",
    "from tensorflow.keras.models import Sequential\n",
    "from tensorflow.keras.layers import Dense,Conv2D,MaxPool2D,Flatten,Dropout,BatchNormalization,Activation\n",
    "from tensorflow.keras.preprocessing.image import ImageDataGenerator\n",
    "import matplotlib.pyplot as plt"
   ]
  },
  {
   "cell_type": "code",
   "execution_count": 2,
   "id": "2dd56501",
   "metadata": {},
   "outputs": [],
   "source": [
    "rootPath = 'C:/Users/soyeon/Desktop/soyeon_etc/computer_vision_code/실습/Plant_Disease/vision'"
   ]
  },
  {
   "cell_type": "code",
   "execution_count": 3,
   "id": "77459b9f",
   "metadata": {},
   "outputs": [],
   "source": [
    "train_datagen=ImageDataGenerator(rescale=1/255,validation_split=.2,)\n",
    "test_datagen=ImageDataGenerator(rescale=1/255)"
   ]
  },
  {
   "cell_type": "code",
   "execution_count": 4,
   "id": "064a0473",
   "metadata": {},
   "outputs": [
    {
     "name": "stdout",
     "output_type": "stream",
     "text": [
      "Found 1668 images belonging to 3 classes.\n",
      "Found 416 images belonging to 3 classes.\n",
      "Found 15 images belonging to 3 classes.\n"
     ]
    }
   ],
   "source": [
    "train_generator=train_datagen.flow_from_directory(os.path.join(rootPath, 'training_set'),\n",
    "                                                 target_size=(224,224),\n",
    "                                                 color_mode='rgb',\n",
    "                                                 class_mode='sparse',batch_size=16,\n",
    "                                                 subset='training')\n",
    "\n",
    "val_generator=train_datagen.flow_from_directory(os.path.join(rootPath, 'training_set'),\n",
    "                                                 target_size=(224,224),\n",
    "                                                 color_mode='rgb',\n",
    "                                                 class_mode='sparse',batch_size=8,\n",
    "                                                 subset='validation')\n",
    "\n",
    "test_gemerator=test_datagen.flow_from_directory(os.path.join(rootPath, 'test_set'),\n",
    "                                                 target_size=(224,224),\n",
    "                                                 color_mode='rgb',\n",
    "                                                 class_mode='sparse',batch_size=15,\n",
    "                                                 shuffle=False)"
   ]
  },
  {
   "cell_type": "code",
   "execution_count": 5,
   "id": "45ab2db8",
   "metadata": {},
   "outputs": [],
   "source": [
    "from tensorflow.keras.applications import Xception\n",
    "convlayer=Xception(input_shape=(224,224,3),weights='imagenet',include_top=False)\n",
    "for layer in convlayer.layers:\n",
    "    layer.trainable=False"
   ]
  },
  {
   "cell_type": "code",
   "execution_count": 6,
   "id": "4ecde529",
   "metadata": {},
   "outputs": [
    {
     "name": "stdout",
     "output_type": "stream",
     "text": [
      "Model: \"sequential\"\n",
      "_________________________________________________________________\n",
      "Layer (type)                 Output Shape              Param #   \n",
      "=================================================================\n",
      "xception (Functional)        (None, 7, 7, 2048)        20861480  \n",
      "_________________________________________________________________\n",
      "dropout (Dropout)            (None, 7, 7, 2048)        0         \n",
      "_________________________________________________________________\n",
      "flatten (Flatten)            (None, 100352)            0         \n",
      "_________________________________________________________________\n",
      "batch_normalization_4 (Batch (None, 100352)            401408    \n",
      "_________________________________________________________________\n",
      "dense (Dense)                (None, 2048)              205522944 \n",
      "_________________________________________________________________\n",
      "batch_normalization_5 (Batch (None, 2048)              8192      \n",
      "_________________________________________________________________\n",
      "activation (Activation)      (None, 2048)              0         \n",
      "_________________________________________________________________\n",
      "dropout_1 (Dropout)          (None, 2048)              0         \n",
      "_________________________________________________________________\n",
      "dense_1 (Dense)              (None, 1024)              2098176   \n",
      "_________________________________________________________________\n",
      "batch_normalization_6 (Batch (None, 1024)              4096      \n",
      "_________________________________________________________________\n",
      "activation_1 (Activation)    (None, 1024)              0         \n",
      "_________________________________________________________________\n",
      "dropout_2 (Dropout)          (None, 1024)              0         \n",
      "_________________________________________________________________\n",
      "dense_2 (Dense)              (None, 3)                 3075      \n",
      "=================================================================\n",
      "Total params: 228,899,371\n",
      "Trainable params: 207,831,043\n",
      "Non-trainable params: 21,068,328\n",
      "_________________________________________________________________\n"
     ]
    }
   ],
   "source": [
    "model=Sequential()\n",
    "model.add(convlayer)\n",
    "model.add(Dropout(0.5))\n",
    "model.add(Flatten())\n",
    "model.add(BatchNormalization())\n",
    "model.add(Dense(2048,kernel_initializer='he_uniform'))\n",
    "model.add(BatchNormalization())\n",
    "model.add(Activation('relu'))\n",
    "model.add(Dropout(0.5))\n",
    "model.add(Dense(1024,kernel_initializer='he_uniform'))\n",
    "model.add(BatchNormalization())\n",
    "model.add(Activation('relu'))\n",
    "model.add(Dropout(0.5))\n",
    "model.add(Dense(3,activation='softmax'))\n",
    "model.summary()"
   ]
  },
  {
   "cell_type": "code",
   "execution_count": 7,
   "id": "d6da0ecc",
   "metadata": {},
   "outputs": [],
   "source": [
    "opt=tf.keras.optimizers.Adam(lr=0.001)\n",
    "model.compile(loss='sparse_categorical_crossentropy',\n",
    "              metrics=['sparse_categorical_accuracy'],\n",
    "              optimizer=opt)"
   ]
  },
  {
   "cell_type": "code",
   "execution_count": 8,
   "id": "69faee4b",
   "metadata": {
    "scrolled": true
   },
   "outputs": [
    {
     "name": "stdout",
     "output_type": "stream",
     "text": [
      "Epoch 1/5\n",
      "105/105 [==============================] - 12s 78ms/step - loss: 0.5214 - sparse_categorical_accuracy: 0.8140 - val_loss: 0.1331 - val_sparse_categorical_accuracy: 0.9591\n",
      "Epoch 2/5\n",
      "105/105 [==============================] - 6s 60ms/step - loss: 0.1560 - sparse_categorical_accuracy: 0.9523 - val_loss: 0.1705 - val_sparse_categorical_accuracy: 0.9495\n",
      "Epoch 3/5\n",
      "105/105 [==============================] - 6s 60ms/step - loss: 0.1068 - sparse_categorical_accuracy: 0.9690 - val_loss: 0.1057 - val_sparse_categorical_accuracy: 0.9663\n",
      "Epoch 4/5\n",
      "105/105 [==============================] - 6s 60ms/step - loss: 0.0555 - sparse_categorical_accuracy: 0.9847 - val_loss: 0.1510 - val_sparse_categorical_accuracy: 0.9447\n",
      "Epoch 5/5\n",
      "105/105 [==============================] - 6s 60ms/step - loss: 0.0850 - sparse_categorical_accuracy: 0.9761 - val_loss: 0.2274 - val_sparse_categorical_accuracy: 0.9399\n"
     ]
    }
   ],
   "source": [
    "history=model.fit(train_generator,validation_data=val_generator,\n",
    "         epochs=5)"
   ]
  },
  {
   "cell_type": "code",
   "execution_count": 9,
   "id": "a2d90005",
   "metadata": {},
   "outputs": [
    {
     "data": {
      "text/plain": [
       "<matplotlib.legend.Legend at 0x17259fbef40>"
      ]
     },
     "execution_count": 9,
     "metadata": {},
     "output_type": "execute_result"
    },
    {
     "data": {
      "image/png": "[encoded data removed]",
      "text/plain": [
       "<Figure size 432x288 with 1 Axes>"
      ]
     },
     "metadata": {
      "needs_background": "light"
     },
     "output_type": "display_data"
    }
   ],
   "source": [
    "plt.plot(history.history['sparse_categorical_accuracy'],c='blue')\n",
    "plt.plot(history.history['val_sparse_categorical_accuracy'],c='red')\n",
    "plt.ylabel('Accuracy')\n",
    "plt.xlabel('Epoch')\n",
    "plt.legend(['train','validation'],loc='lower right')"
   ]
  },
  {
   "cell_type": "code",
   "execution_count": 10,
   "id": "e26548ac",
   "metadata": {},
   "outputs": [
    {
     "name": "stdout",
     "output_type": "stream",
     "text": [
      "1/1 [==============================] - 0s 462ms/step - loss: 0.0403 - sparse_categorical_accuracy: 1.0000\n"
     ]
    },
    {
     "data": {
      "text/plain": [
       "[0.04031794145703316, 1.0]"
      ]
     },
     "execution_count": 10,
     "metadata": {},
     "output_type": "execute_result"
    }
   ],
   "source": [
    "model.evaluate(test_gemerator)"
   ]
  },
  {
   "cell_type": "code",
   "execution_count": 11,
   "id": "36c664fd",
   "metadata": {},
   "outputs": [],
   "source": [
    "pred = model.predict(test_gemerator)"
   ]
  },
  {
   "cell_type": "code",
   "execution_count": 12,
   "id": "04b90187",
   "metadata": {},
   "outputs": [],
   "source": [
    "img_list = test_gemerator.filenames"
   ]
  },
  {
   "cell_type": "code",
   "execution_count": 13,
   "id": "9422d212",
   "metadata": {},
   "outputs": [],
   "source": [
    "pred_list = []\n",
    "for i in range(len(pred)):\n",
    "    pred_list.append(np.argmax(pred[i]))"
   ]
  },
  {
   "cell_type": "code",
   "execution_count": 14,
   "id": "5bf7e1ad",
   "metadata": {},
   "outputs": [
    {
     "name": "stdout",
     "output_type": "stream",
     "text": [
      "[0, 0, 0, 0, 0, 1, 1, 1, 1, 1, 2, 2, 2, 2, 2]\n"
     ]
    }
   ],
   "source": [
    "df = pd.DataFrame(list(zip(img_list, pred_list)), columns =['Name', 'pred'])\n",
    "print(pred_list)"
   ]
  },
  {
   "cell_type": "code",
   "execution_count": 15,
   "id": "24bad5c3",
   "metadata": {},
   "outputs": [],
   "source": [
    "df.to_csv('submission_1215_Xception_End.csv', index=False)"
   ]
  },
  {
   "cell_type": "code",
   "execution_count": null,
   "id": "a303e53f",
   "metadata": {},
   "outputs": [],
   "source": []
  }
 ],
 "metadata": {
  "kernelspec": {
   "display_name": "cvpy38",
   "language": "python",
   "name": "cvpy38"
  },
  "language_info": {
   "codemirror_mode": {
    "name": "ipython",
    "version": 3
   },
   "file_extension": ".py",
   "mimetype": "text/x-python",
   "name": "python",
   "nbconvert_exporter": "python",
   "pygments_lexer": "ipython3",
   "version": "3.8.11"
  }
 },
 "nbformat": 4,
 "nbformat_minor": 5
}
